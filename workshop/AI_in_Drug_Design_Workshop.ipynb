{
 "cells": [
  {
   "cell_type": "code",
   "execution_count": null,
   "metadata": {
    "executionInfo": {
     "elapsed": 6,
     "status": "ok",
     "timestamp": 1692852485648,
     "user": {
      "displayName": "Seabra, Gustavo",
      "userId": "11865128066077024880"
     },
     "user_tz": 240
    },
    "id": "V41BQJfKSh5E",
    "tags": []
   },
   "outputs": [],
   "source": [
    "#The following will time the execution of the whole notebook:\n",
    "import time\n",
    "start_time = time.time()"
   ]
  },
  {
   "cell_type": "code",
   "execution_count": null,
   "metadata": {
    "tags": []
   },
   "outputs": [],
   "source": [
    "def hms(seconds):\n",
    "    # Convert timings to human-readable format\n",
    "    h = seconds // 3600\n",
    "    m = seconds % 3600 // 60\n",
    "    s = seconds % 3600 % 60\n",
    "    return f'{h:.2f} hours, {m:0.2f} minutes and {s:0.2f} seconds.'"
   ]
  },
  {
   "cell_type": "markdown",
   "metadata": {
    "id": "Oxcu7d57Sh5F"
   },
   "source": [
    "# Introduction to AI in Drug Discovery"
   ]
  },
  {
   "cell_type": "markdown",
   "metadata": {
    "id": "vaLrMvpgSh5F"
   },
   "source": [
    "Here we will lookl at a couple of examples of application of Deep Learning methods in Drug Discovery.\n",
    "\n",
    "1. First, we will use a *Molecular Generator* to generate new (random) molecules\n",
    "1. Second, we will look at how we can use AI to predict a relevant molecular property.  \n",
    "1. Finally, we will combine the two things to optimize the property in generated molecules"
   ]
  },
  {
   "cell_type": "markdown",
   "metadata": {
    "id": "ddFRck6ISh5G",
    "tags": []
   },
   "source": [
    "## Load Generic Packages\n",
    "\n",
    "Here we will load the generic packages we will need for this exercise. Specific packages will be loaded as needed.\n",
    "\n",
    "\n",
    "**Environment Check**\n",
    "\n",
    "The commands below are *not* really necessary, as the `pytorch` package is imported as needed by other libraries. However, the AI programs we'll use require a CUDA-enabled GPU, so here we test your environment before we start. If all is OK (meaning you do have access to a CUDA-enabled GPU and the correct libraries are installed), the result should print `True`. If you see any other output, check your environment."
   ]
  },
  {
   "cell_type": "code",
   "execution_count": null,
   "metadata": {
    "colab": {
     "base_uri": "https://localhost:8080/"
    },
    "executionInfo": {
     "elapsed": 3235,
     "status": "ok",
     "timestamp": 1692852488878,
     "user": {
      "displayName": "Seabra, Gustavo",
      "userId": "11865128066077024880"
     },
     "user_tz": 240
    },
    "id": "i8g-42QvSh5H",
    "outputId": "f4ee95f7-5879-432f-afed-a6ff8d6f8a5d",
    "tags": []
   },
   "outputs": [],
   "source": [
    "import torch\n",
    "torch.cuda.is_available()"
   ]
  },
  {
   "cell_type": "markdown",
   "metadata": {
    "id": "f8A4XXbmSh5H"
   },
   "source": [
    "**Standard Python Libraries**\n",
    "\n",
    "Now that we know the environment is OK, we can go on to load the standard libraries"
   ]
  },
  {
   "cell_type": "code",
   "execution_count": null,
   "metadata": {
    "executionInfo": {
     "elapsed": 1651,
     "status": "ok",
     "timestamp": 1692852490526,
     "user": {
      "displayName": "Seabra, Gustavo",
      "userId": "11865128066077024880"
     },
     "user_tz": 240
    },
    "id": "G67noR2hSh5I",
    "tags": []
   },
   "outputs": [],
   "source": [
    "import random\n",
    "import numpy as np\n",
    "import pandas as pd\n",
    "import matplotlib.pyplot as plt\n",
    "import seaborn as sns\n",
    "from tqdm import tqdm, tnrange, notebook"
   ]
  },
  {
   "cell_type": "markdown",
   "metadata": {
    "id": "IZf_Y7QHSh5I"
   },
   "source": [
    "**Chemistry-Specific Package: RDKit**\n",
    "\n",
    "Here we will use a package designed specifically to deal with molecules: [RDKit](www.rdkit.org):"
   ]
  },
  {
   "cell_type": "code",
   "execution_count": null,
   "metadata": {
    "colab": {
     "base_uri": "https://localhost:8080/"
    },
    "executionInfo": {
     "elapsed": 6779,
     "status": "ok",
     "timestamp": 1692852970188,
     "user": {
      "displayName": "Seabra, Gustavo",
      "userId": "11865128066077024880"
     },
     "user_tz": 240
    },
    "id": "W8mZa_EkSh5I",
    "outputId": "57a0b0ce-0dab-47fa-aac6-7a8d365266c6",
    "tags": []
   },
   "outputs": [],
   "source": [
    "import rdkit\n",
    "from rdkit import Chem\n",
    "from rdkit import DataStructs\n",
    "from rdkit.Chem import Draw, PandasTools\n",
    "from rdkit.Chem.Draw import IPythonConsole\n",
    "print(\"RDKit Version: \", rdkit.__version__)\n",
    "\n",
    "import ReLeaSE"
   ]
  },
  {
   "cell_type": "markdown",
   "metadata": {
    "id": "vayDKbT4Sh5I"
   },
   "source": [
    "RDKit allows us to represent the molecules using the *\"Simplified Molecular Input Line Entry System\"*, or [SMILES](https://en.wikipedia.org/wiki/Simplified_molecular-input_line-entry_system). This is a molecular representation created by [Daylight Chemical Information Systems](https://www.daylight.com/) to represent molecules in a simplified format as a sequence of text characters.\n",
    "\n",
    "For example, the antibiotic [Ciprofloxacin](https://pubchem.ncbi.nlm.nih.gov/compound/2764) can be represented in SMILES format as: \"C1CC1N2C=C(C(=O)C3=CC(=C(C=C32)N4CCNCC4)F)C(=O)O\". We can use RDKit to visualize it in 2D with:"
   ]
  },
  {
   "cell_type": "code",
   "execution_count": null,
   "metadata": {
    "colab": {
     "base_uri": "https://localhost:8080/",
     "height": 167
    },
    "executionInfo": {
     "elapsed": 6,
     "status": "ok",
     "timestamp": 1692852490833,
     "user": {
      "displayName": "Seabra, Gustavo",
      "userId": "11865128066077024880"
     },
     "user_tz": 240
    },
    "id": "vNpRoTs8Sh5J",
    "outputId": "347c77d9-3d3f-4199-b252-bb723963608c",
    "tags": []
   },
   "outputs": [],
   "source": [
    "Chem.MolFromSmiles(\"C1CC1N2C=C(C(=O)C3=CC(=C(C=C32)N4CCNCC4)F)C(=O)O\")"
   ]
  },
  {
   "cell_type": "markdown",
   "metadata": {
    "id": "w_BJqEunSh5J"
   },
   "source": [
    "For details, look into the Wikipedia site [here](https://en.wikipedia.org/wiki/Simplified_molecular-input_line-entry_system), or the Daylight site [here](https://www.daylight.com/smiles/).\n",
    "\n",
    "Now that the basic libraries are loaded, let's try some AI."
   ]
  },
  {
   "cell_type": "markdown",
   "metadata": {
    "tags": []
   },
   "source": [
    "**Check current directory**\n",
    "\n",
    "The result should be `/blue/pha6241/<your_username>/IntroAIPharma/workshop` "
   ]
  },
  {
   "cell_type": "code",
   "execution_count": null,
   "metadata": {
    "tags": []
   },
   "outputs": [],
   "source": [
    "!pwd"
   ]
  },
  {
   "cell_type": "markdown",
   "metadata": {
    "tags": []
   },
   "source": [
    "**Copy large files**\n",
    "\n",
    "These files are too large for GitHub, we copy them manually here."
   ]
  },
  {
   "cell_type": "code",
   "execution_count": null,
   "metadata": {
    "tags": []
   },
   "outputs": [],
   "source": [
    "!cp -rv /data/reference/class/IntroAIPharma/large_files/* ."
   ]
  },
  {
   "cell_type": "markdown",
   "metadata": {
    "id": "DydWGT_QSh5J"
   },
   "source": [
    "## 1. Generating New Molecules"
   ]
  },
  {
   "cell_type": "markdown",
   "metadata": {
    "id": "K8C_tiVmSh5J"
   },
   "source": [
    "You have probably seen AI being used to generate text (e.g. [Google Bard](https://bard.google.com/), [ChatGPT](https://openai.com/chatgpt)), images (e.g. [MidJourney](https://www.midjourney.com/)) and even videos (e.g. [Runway](https://runwayml.com/))\n",
    "\n",
    "AI can also be used to generate molecules! In this exercise, we will use a molecular generator adapted from the ReLeaSE code, for \"<u>Re</u>inforcement <u>Lea</u>rning for <u>S</u>tructural <u>E</u>volution\". The original code is available [here](https://github.com/isayev/ReLeaSE). For more details, see the original publication:\n",
    "\n",
    "> Mariya Popova, Olexandr Isayev, Alexander Tropsha. _Deep Reinforcement Learning for de-novo Drug Design_, Science Advances, **2018**, Vol. 4, no. 7, eaap7885. DOI: [10.1126/sciadv.aap7885](http://dx.doi.org/10.1126/sciadv.aap7885)\n",
    "\n",
    "Our implementation includes some slght modifications to include in this notebook. First, lets define the properties we want for this generator:"
   ]
  },
  {
   "cell_type": "code",
   "execution_count": null,
   "metadata": {
    "colab": {
     "base_uri": "https://localhost:8080/"
    },
    "id": "KpNoMymrSh5J",
    "outputId": "9db48016-3ccb-4108-d6f2-63adefa36140",
    "tags": []
   },
   "outputs": [],
   "source": [
    "%time\n",
    "generator_properties = {\n",
    "    'name':'ReLeaSE',    # Just a name to remeber what generator we are using\n",
    "    'batch_size':200,    # Generate this many molecules at a time, unless we specify the desired number\n",
    "    'initial_state':'release/checkpoints/generator/checkpoint_biggest_rnn' # The unbiased state of the generator\n",
    "}\n",
    "generator = ReLeaSE.ReLeaSE(generator_properties)"
   ]
  },
  {
   "cell_type": "markdown",
   "metadata": {
    "id": "FFGdD7YXSh5K"
   },
   "source": [
    "... and now we have our molecular generator initialized. Notice we did read an initial \"state\" for the generator, from the file in `release/checkpoints/generator/checkpoint_biggest_rnn`. Here, it was trained with ~1.5 Million molecules obtained from the [ChEMBL database](https://www.ebi.ac.uk/chembl/) v21, to generate valid, drug-like molecules.recovery\n",
    "\n",
    "In our version of the generator, we can define the number of molecules to generate with the parameter `n_to_generate`. ReLeaSE always generate the molecules as SMILES strings, but we can recover them  either as SMILES strings or as RDKit ROMol objects, which is the way RDKit represents the molecules internally.\n",
    "\n",
    "For example, to generate 10 unique, random molecules and receive them in SMILES notation:"
   ]
  },
  {
   "cell_type": "code",
   "execution_count": null,
   "metadata": {
    "id": "eASHoH4iSh5K"
   },
   "outputs": [],
   "source": [
    "smis = generator.generate_smis(10)"
   ]
  },
  {
   "cell_type": "markdown",
   "metadata": {
    "id": "A5TxPG6iSh5K"
   },
   "source": [
    "Here, to get 10 unique valid molecules it generated a larger number of SMILES strings, as some of those didn't translate to valid molecules. The number of generated SMILES and percent validity may vary each time you run this cell.\n",
    "\n",
    "We can now use RDKit to look into the generated molecules. First, we need to convert the molecules from SMILES to ROMol format (the RDKit molecule format), and then we can visualize them:"
   ]
  },
  {
   "cell_type": "code",
   "execution_count": null,
   "metadata": {
    "id": "9-Lh1KQ1Sh5K",
    "outputId": "281e5553-a58c-4043-a2e1-038a56c7a1ed"
   },
   "outputs": [],
   "source": [
    "# Draw Random Generated Molecules\n",
    "mols = [Chem.MolFromSmiles(s) for s in smis]\n",
    "Draw.MolsToGridImage(mols, molsPerRow=3,subImgSize=(500,200))"
   ]
  },
  {
   "cell_type": "markdown",
   "metadata": {
    "id": "6Xx9R_j8Sh5K"
   },
   "source": [
    "We can also get the molecules directly in the ROMol format:"
   ]
  },
  {
   "cell_type": "code",
   "execution_count": null,
   "metadata": {
    "colab": {
     "referenced_widgets": [
      ""
     ]
    },
    "id": "U3HjzRPESh5L",
    "outputId": "7a6a8108-e8a4-4b53-d6b9-14f99dc8e311"
   },
   "outputs": [],
   "source": [
    "%time\n",
    "mols = generator.generate_mols(10)"
   ]
  },
  {
   "cell_type": "code",
   "execution_count": null,
   "metadata": {
    "id": "LDWGRQC7Sh5L",
    "outputId": "11dab803-274f-4cfe-e8ce-a4b41cdfd240"
   },
   "outputs": [],
   "source": [
    "# Draw Random Generated Molecules\n",
    "Draw.MolsToGridImage(mols, molsPerRow=3,subImgSize=(500,200))"
   ]
  },
  {
   "cell_type": "markdown",
   "metadata": {
    "id": "IRD_qm-OSh5L"
   },
   "source": [
    "And there you go, you just used a molecular generator to create new, random molecules!"
   ]
  },
  {
   "cell_type": "markdown",
   "metadata": {
    "id": "tSDfGAAASh5L"
   },
   "source": [
    "## 2. Estimation of Molecular Properties"
   ]
  },
  {
   "cell_type": "markdown",
   "metadata": {
    "id": "0c3-t3HpSh5L"
   },
   "source": [
    "You already can generate random molecules. Now, imagine you are part of a team designing a new drug for Alzheimer's disease. You want this drug to be able to reach receptors in the brain, so penetration of the [Blood-Brain Barrier](https://en.wikipedia.org/wiki/Blood%E2%80%93brain_barrier) (BBB) is important. But how can you know if a generated molecule is able to cross the BBB?\n",
    "\n",
    "Here we will create a deep-learning model to predict the BBB penetration, based on the SMILES string for a given molecule. For that, we will be using the CHEM-BERT model, which original code is available [here](https://github.com/HyunSeobKim/CHEM-BERT), and published in Nature Scientific Reports:\n",
    "\n",
    "> Hyunseob Kim, Jeongcheol Lee, Sunil Ahn & Jongsuk Ruth Lee, *A merged molecular representation learning for molecular properties prediction with a web-based service*, Scientific Reports, **2021**, volume 11, Article number: 11028 [DOI:10.1038/s41598-021-90259-7](https://doi.org/10.1038/s41598-021-90259-7)\n",
    "\n",
    "CHEM-BERT is a model based on Bidirectional Encoder Representations from Transformers ([BERT](https://en.wikipedia.org/wiki/BERT_(language_model))), a family of models developed for language tasks. In CHEM-BERT, the transformer was pre-trained to predict masked tokens of SMILES strings, and at the same time predict the value of the \"Quantitative Estimate of Drug-Likeness\" (QED) for a set of 9 million molecules from the ZINC database. QED estimates 8 different molecular properties:\n",
    "\n",
    "* ALOGP = Octanol / water partition coefficient\n",
    "* HBx = H-Bond Donor/Acceptor\n",
    "* PSA = Polar Surface Area\n",
    "* ROTBs = Number of Rotatable Bonds\n",
    "* AROMS = Number of aromatic groups\n",
    "* ALERTS = Number of structural alerts: 94 functional moieties that are potentially mutagenic, reactive or have unfavourable pharmacokinetic properties\n",
    "* MW = Molecular weight\n",
    "\n",
    "and combines them to generate one number in the 0-1 interval that relates to the concept of \"drug-likeness\". The inclusion of QED values in the training helps the model to learn a SMILES representation merged with chemical context.\n",
    "\n",
    "After the pre-trained, the CHEM-BERT model can then be fine-tuned to predict other properties of compounds."
   ]
  },
  {
   "cell_type": "markdown",
   "metadata": {
    "id": "fxA6QpQ6Sh5L"
   },
   "source": [
    "Here, we will fine-tune the CHEM-BERT model to predict the BBB penetration of compunds. As input, we will use the B3DB set available [here](https://github.com/theochem/B3DB/tree/main), and published in:\n",
    "> Meng, F., Xi, Y., Huang, J. et al. _A curated diverse molecular database of blood-brain barrier permeability with chemical descriptors._ Sci Data **(2021)** 8, 289. [DOI:10.1038/s41597-021-01069-5](https://doi.org/10.1038/s41597-021-01069-5)\n",
    "\n",
    "This includes curated $\\log{BB}$ data for 1,058 compounds from the literature, where\n",
    "\n",
    "$$ \\log \\;BB=\\log \\frac{{C}_{brain}}{{C}_{blood}} $$\n",
    "\n",
    "In general, a compound is considered to penetrate the BBB if the $\\log{BB} > -1$.\n",
    "\n",
    "However, the dataset also has *categorical* data, where the molecules can be simply separated as \"BBB+\" (able to cross the BBB) or \"BBB-\"."
   ]
  },
  {
   "cell_type": "markdown",
   "metadata": {
    "id": "DS3Gx7tHSh5L"
   },
   "source": [
    "Let's take a look at the dataset."
   ]
  },
  {
   "cell_type": "code",
   "execution_count": null,
   "metadata": {
    "id": "gUzBeWt4Sh5M",
    "outputId": "c2577397-ce52-43c6-9ed1-ab87f6091101"
   },
   "outputs": [],
   "source": [
    "b3db = pd.read_csv(\"data/B3DB_classification.tsv\", delimiter='\\t')\n",
    "b3db.head()"
   ]
  },
  {
   "cell_type": "code",
   "execution_count": null,
   "metadata": {
    "id": "jHThSybMSh5M",
    "outputId": "8956fb6f-5075-47f5-ae68-edad7eb30efb"
   },
   "outputs": [],
   "source": [
    "len(b3db)"
   ]
  },
  {
   "cell_type": "markdown",
   "metadata": {
    "id": "_bX6fkEZSh5M"
   },
   "source": [
    "Notice that some columns have \"NaN\" as data for some compounds, meaning that this specific data point is missing.\n",
    "\n",
    "To get a list of all the columns present in the dataset:"
   ]
  },
  {
   "cell_type": "code",
   "execution_count": null,
   "metadata": {
    "id": "e660YFPwSh5M",
    "outputId": "c075aeb5-a97a-4392-f60c-cd0f954dbd39"
   },
   "outputs": [],
   "source": [
    "b3db.columns"
   ]
  },
  {
   "cell_type": "markdown",
   "metadata": {
    "id": "YM9r8mfsSh5M"
   },
   "source": [
    "The columns that are important for us are `SMILES` and `logBB`. Let's check if there are any missing values:"
   ]
  },
  {
   "cell_type": "code",
   "execution_count": null,
   "metadata": {
    "id": "ZVwJrzSBSh5M",
    "outputId": "24fdbc23-1fcf-41b6-a2f6-824770a92f8d"
   },
   "outputs": [],
   "source": [
    "# Check for missing values or SMILES\n",
    "print(\"Are there missing SMILES?          \", b3db.SMILES.isna().any())\n",
    "print(\"Are there missing logBB values?    \", b3db.logBB.isna().any() )\n",
    "print(\"Are there missing category values? \", b3db['BBB+/BBB-'].isna().any() )"
   ]
  },
  {
   "cell_type": "markdown",
   "metadata": {
    "id": "cqxXQq3USh5N"
   },
   "source": [
    "Lets look at the distribution of numeerical ($\\log{BB}$) values. Remember, values of $\\log{BB} > -1$ are considered to penetrate the barrier, written as *BBB+*."
   ]
  },
  {
   "cell_type": "code",
   "execution_count": null,
   "metadata": {
    "id": "Wspe_iFSSh5N",
    "outputId": "66f54351-cfb0-42af-e77c-e4be1c84c4f1"
   },
   "outputs": [],
   "source": [
    "fig, ax = plt.subplots()\n",
    "ax=sns.histplot(data=b3db, x='logBB', kde=True)\n",
    "threshold = -1.0\n",
    "plt.vlines(threshold,0,120,color='red', ls='--')\n",
    "plt.annotate('BBB+',(threshold + 0.1,107), (1.3,105), arrowprops={'color':'red',\n",
    "                                                              'arrowstyle':'<-','relpos':(.5,.5)} )\n",
    "plt.annotate('BBB-',(threshold - 0.1,107), (-2.8,105), arrowprops={'color':'red',\n",
    "                                                              'arrowstyle':'<-','relpos':(.5,.5)} );"
   ]
  },
  {
   "cell_type": "markdown",
   "metadata": {
    "id": "U5RZBXo7Sh5S"
   },
   "source": [
    "Notice that this dataset is unbalanced, as there are many more \"BBB+\" than \"BBB-\" molecules."
   ]
  },
  {
   "cell_type": "code",
   "execution_count": null,
   "metadata": {
    "id": "x8ltgMpcSh5S",
    "outputId": "739840c7-af3e-4567-eba5-5b46b6b8df63"
   },
   "outputs": [],
   "source": [
    "n_BBB_plus  = sum(b3db.logBB >= -1)\n",
    "n_BBB_minus = sum(b3db.logBB < -1)\n",
    "print(f\"Number of BBB+ molecules: {n_BBB_plus} ({ n_BBB_plus /(n_BBB_plus + n_BBB_minus):0.1%}) \")\n",
    "print(f\"Number of BBB- molecules: {n_BBB_minus} ({n_BBB_minus/(n_BBB_plus + n_BBB_minus):0.1%}) \")"
   ]
  },
  {
   "cell_type": "markdown",
   "metadata": {
    "id": "keflzntBSh5S"
   },
   "source": [
    "This, unfortunately, is a result of the literature bias: Researchers studying molecules that penetrate the BBB are more likely to publish results of the successful molecules, while researchers studying systems where BBB crossing is not an issue don't even bother to measure $\\log{BB}$. In the end, the literature has this imbalance in the available data."
   ]
  },
  {
   "cell_type": "markdown",
   "metadata": {
    "id": "48aPx9JKSh5S"
   },
   "source": [
    "Now, let's look at the categorical data:"
   ]
  },
  {
   "cell_type": "code",
   "execution_count": null,
   "metadata": {
    "id": "zQLMw5hpSh5T",
    "outputId": "3fdbe4ea-d9a4-4c14-f4ee-ecb2b9ed7aad"
   },
   "outputs": [],
   "source": [
    "fig, ax = plt.subplots()\n",
    "ax=sns.histplot(data=b3db, x='BBB+/BBB-')"
   ]
  },
  {
   "cell_type": "code",
   "execution_count": null,
   "metadata": {
    "id": "sj_y1MCpSh5T",
    "outputId": "078a406c-4c25-4df8-a324-b8dbfac2054b"
   },
   "outputs": [],
   "source": [
    "n_BBB_plus  = sum(b3db['BBB+/BBB-'] == \"BBB+\")\n",
    "n_BBB_minus = sum(b3db['BBB+/BBB-'] == \"BBB-\")\n",
    "print(f\"Number of BBB+ molecules: {n_BBB_plus} ({ n_BBB_plus /(n_BBB_plus + n_BBB_minus):0.1%}) \")\n",
    "print(f\"Number of BBB- molecules: {n_BBB_minus} ({n_BBB_minus/(n_BBB_plus + n_BBB_minus):0.1%}) \")"
   ]
  },
  {
   "cell_type": "markdown",
   "metadata": {
    "id": "wQx_NUk7Sh5T"
   },
   "source": [
    "That looks like a better distribution. Now let's use it to fine-tune CHEM-BERT with it. That's OK, because in most scenarios, researchers actually try to predict *if* a molecule will or not cross the BBB. To predict that, let's create a dataset with labels \"1.0\" for BBB+ molecules, and \"0.0\" for BBB-:"
   ]
  },
  {
   "cell_type": "code",
   "execution_count": null,
   "metadata": {
    "id": "aucmsmAzSh5T",
    "outputId": "df9a7e02-9b70-413f-86c0-248085c1e64a"
   },
   "outputs": [],
   "source": [
    "logbb_data = pd.DataFrame({'SMILES':b3db.SMILES,\n",
    "                           'LABELS':[1.0 if x == \"BBB+\" else 0.0 for x in b3db['BBB+/BBB-'].values]})\n",
    "logbb_data"
   ]
  },
  {
   "cell_type": "markdown",
   "metadata": {
    "id": "v-uKYMJnSh5T"
   },
   "source": [
    "### Creating a CHEM-BERT Model"
   ]
  },
  {
   "cell_type": "markdown",
   "metadata": {
    "id": "7yAnLUOdSh5T"
   },
   "source": [
    "Now we can create a CHEM-BERT model for predicting if a molecule will fall into the BBB+ or BBB- category."
   ]
  },
  {
   "cell_type": "code",
   "execution_count": null,
   "metadata": {
    "id": "LVdHk4G-Sh5U"
   },
   "outputs": [],
   "source": [
    "from CHEMBERT import finetune_CHEMBERT"
   ]
  },
  {
   "cell_type": "markdown",
   "metadata": {
    "id": "eBK-18-BSh5U"
   },
   "source": [
    "Here we are using CHEM-BERT as a classifier.\n",
    "\n",
    "In fact, CHEM-BERT will predict a number between 0-1, indicating a probability that a molecule will fall into the 0 or 1 category. In the process below, notice how it begins by just guesing \"1\" for all molecules, but slowly changes the predictions to get the BBB- molecules correctly."
   ]
  },
  {
   "cell_type": "code",
   "execution_count": null,
   "metadata": {
    "id": "SV4sVEdmSh5U",
    "outputId": "2ea36dd6-6368-4d1d-951b-b71540160150",
    "tags": []
   },
   "outputs": [],
   "source": [
    "%time\n",
    "finetune_CHEMBERT.finetune_model(logbb_data, max_epochs=4, task='classification')"
   ]
  },
  {
   "cell_type": "markdown",
   "metadata": {
    "id": "I7h-72xLSh5U"
   },
   "source": [
    "Notice that, as CHEM-BERT becomes better in detecting BBB- molecules, it looses some of the sensitivity towards the BBB+ molecules."
   ]
  },
  {
   "cell_type": "markdown",
   "metadata": {
    "id": "PrX1Ef6SSh5U"
   },
   "source": [
    "### Applying the Model to Random Molecules"
   ]
  },
  {
   "cell_type": "markdown",
   "metadata": {
    "id": "iesFeipOSh5U"
   },
   "source": [
    "Now that we have trained CHEM-BERT, let's generate 1,000 random molecules, and see how they fare with respect to BBB crossing."
   ]
  },
  {
   "cell_type": "code",
   "execution_count": null,
   "metadata": {
    "colab": {
     "referenced_widgets": [
      ""
     ]
    },
    "id": "wM_Cez20Sh5V",
    "outputId": "9ed4c634-080a-4498-e54b-4f6f44ceb4c4"
   },
   "outputs": [],
   "source": [
    "%time\n",
    "smis = generator.generate_smis(1000)\n",
    "unbiased_mols = [Chem.MolFromSmiles(x) for x in smis]"
   ]
  },
  {
   "cell_type": "markdown",
   "metadata": {
    "id": "vfhIK9L_Sh5V"
   },
   "source": [
    "To evaluate the BBB crossing, let's load the best CHEM-BERT model we have, which was saved to a file called `chembert/Finetuned_model_final.pt`:\n",
    "\n",
    "For that, we will create an Estimator object with instructions to use CHEM-BERT:"
   ]
  },
  {
   "cell_type": "code",
   "execution_count": null,
   "metadata": {
    "id": "V13uKhyRSh5V"
   },
   "outputs": [],
   "source": [
    "import Estimators"
   ]
  },
  {
   "cell_type": "markdown",
   "metadata": {
    "id": "rinCCDCYSh5V"
   },
   "source": [
    "Let's set the configuration options:"
   ]
  },
  {
   "cell_type": "code",
   "execution_count": null,
   "metadata": {
    "id": "4V4k_iWUSh5V"
   },
   "outputs": [],
   "source": [
    "config_opts = {\n",
    "    'CHEMBERT_predictor':{\n",
    "        'task':'classification',\n",
    "        'model_file':'chembert/Finetuned_model_final.pt',\n",
    "        'optimize':True,\n",
    "        'threshold':0.4,\n",
    "        'threshold_step':0.1,\n",
    "        'threshold_limit':0.95\n",
    "    }\n",
    "}"
   ]
  },
  {
   "cell_type": "code",
   "execution_count": null,
   "metadata": {
    "id": "zJ4lzqilSh5V",
    "outputId": "fc6c2e9c-af32-411f-dd40-b04f2eafcdf8"
   },
   "outputs": [],
   "source": [
    "estimator = Estimators.Estimators(config_opts)"
   ]
  },
  {
   "cell_type": "markdown",
   "metadata": {
    "id": "2IA74kz9Sh5W"
   },
   "source": [
    "OK, we loaded the best trained model. Now, let's use to predict the label for the random molecules.\n",
    "\n",
    "Remeber, CHEM-BERT generates a number in the $[0,1]$ interval which represents the probability that a molecule is BBB+."
   ]
  },
  {
   "cell_type": "code",
   "execution_count": null,
   "metadata": {
    "id": "FH6hCwCNSh5W",
    "outputId": "9eb03de0-bb80-49df-fd2a-dbb56b8d01af"
   },
   "outputs": [],
   "source": [
    "%time\n",
    "unbiased_results = estimator.estimate_properties(unbiased_mols)"
   ]
  },
  {
   "cell_type": "markdown",
   "metadata": {
    "id": "6Qd-bpaXSh5W"
   },
   "source": [
    "As a \"sanity check\", let's just check that the size of the arrays are the same (we predicted values for all molecules):"
   ]
  },
  {
   "cell_type": "code",
   "execution_count": null,
   "metadata": {
    "id": "mmGID5J6Sh5W",
    "outputId": "830616d3-52b5-470b-89ea-af1a3813c208"
   },
   "outputs": [],
   "source": [
    "len(smis), len(unbiased_mols), len(unbiased_results['CHEMBERT_predictor'])"
   ]
  },
  {
   "cell_type": "markdown",
   "metadata": {
    "id": "9C15LMc1Sh5W"
   },
   "source": [
    "Now, let's look at the results:"
   ]
  },
  {
   "cell_type": "code",
   "execution_count": null,
   "metadata": {
    "id": "A67LTjrPSh5W",
    "outputId": "291e1758-15bd-4ce4-ef46-d1d106034982"
   },
   "outputs": [],
   "source": [
    "fig, ax = plt.subplots()\n",
    "ax=sns.histplot(data=unbiased_results['CHEMBERT_predictor'], kde=True)\n",
    "threshold = 0.5\n",
    "plt.vlines(threshold,0,120,color='red', ls='--')\n",
    "plt.annotate('BBB+',(threshold + 0.01,107), (ax.get_xlim()[1] - 0.1,105), arrowprops={'color':'red',\n",
    "                                                              'arrowstyle':'<-','relpos':(.5,.5)} )\n",
    "plt.annotate('BBB-',(threshold - 0.01,107), (ax.get_xlim()[0] + 0.02,105), arrowprops={'color':'red',\n",
    "                                                              'arrowstyle':'<-','relpos':(.5,.5)} );"
   ]
  },
  {
   "cell_type": "markdown",
   "metadata": {
    "id": "S9no4DhBSh5X"
   },
   "source": [
    "We can classify the labels as BBB+/BBB- with:"
   ]
  },
  {
   "cell_type": "code",
   "execution_count": null,
   "metadata": {
    "id": "8fMabr3bSh5X",
    "outputId": "f2b19f40-a262-4451-aed1-89ac51e911a1"
   },
   "outputs": [],
   "source": [
    "fig, ax = plt.subplots()\n",
    "unbiased_labels = [\"BBB+\" if x>=0.5 else \"BBB-\" for x in unbiased_results['CHEMBERT_predictor']]\n",
    "sns.countplot(x=unbiased_labels,order=['BBB-','BBB+'], ax=ax)\n",
    "counts_unbiased=np.array([sum(np.array(unbiased_labels) == \"BBB-\"),sum(np.array(unbiased_labels) == \"BBB+\")])\n",
    "rel_counts_unb = counts_unbiased / len(unbiased_labels)\n",
    "labels_unb = [f\"{l[0]} ({l[1]:0.1%})\" for l in zip(counts_unbiased, rel_counts_unb)]\n",
    "ax.bar_label(container=ax.containers[0], labels=labels_unb)\n",
    "ax.set_title(\"Unbiased\")"
   ]
  },
  {
   "cell_type": "markdown",
   "metadata": {
    "id": "en3Sp2pzSh5X"
   },
   "source": [
    "## 3. Generating BBB+ Molecules"
   ]
  },
  {
   "cell_type": "markdown",
   "metadata": {
    "tags": []
   },
   "source": [
    "### Biasing the Molecular Generator"
   ]
  },
  {
   "cell_type": "markdown",
   "metadata": {
    "id": "reN8-fOgSh5X"
   },
   "source": [
    "Let's look at the distribution of the randomly generated molecules:"
   ]
  },
  {
   "cell_type": "code",
   "execution_count": null,
   "metadata": {
    "id": "44WJ-CiASh5X",
    "outputId": "6f757134-71c4-4ccb-9439-233e9d92c589"
   },
   "outputs": [],
   "source": [
    "n_BBB_plus  = sum(np.array(unbiased_labels) == \"BBB+\")\n",
    "n_BBB_minus = sum(np.array(unbiased_labels) == \"BBB-\")\n",
    "print(f\"Number of BBB+ molecules: {n_BBB_plus} ({ n_BBB_plus /(n_BBB_plus + n_BBB_minus):0.1%}) \")\n",
    "print(f\"Number of BBB- molecules: {n_BBB_minus} ({n_BBB_minus/(n_BBB_plus + n_BBB_minus):0.1%}) \")"
   ]
  },
  {
   "cell_type": "markdown",
   "metadata": {
    "id": "CySnXFO9Sh5Y"
   },
   "source": [
    "So, in a set of 1,000 random molecules generated, a bit more than half are able to cross the BBB. Interestingly, this mirrors the distribution of the training set.\n",
    "\n",
    "**Can we do better?**\n",
    "\n",
    "Or, can we teach the generator to create more molecules that *can* cross the BBB?\n",
    "\n",
    "For that, we will use a method called \"Reinforcement Learning\". We will create a new \"Estimator\" object that can calculate the properties and rewards for the RL cycle"
   ]
  },
  {
   "cell_type": "code",
   "execution_count": null,
   "metadata": {
    "id": "3_7AIkBdSh5Y"
   },
   "outputs": [],
   "source": [
    "generator_opts ={\n",
    "    'verbosity':0\n",
    "}"
   ]
  },
  {
   "cell_type": "code",
   "execution_count": null,
   "metadata": {
    "colab": {
     "referenced_widgets": [
      ""
     ]
    },
    "id": "vgsqg6JCSh5Y",
    "outputId": "38eb81ea-4696-4600-e3c0-19e31ad264c1",
    "tags": []
   },
   "outputs": [],
   "source": [
    "%time\n",
    "generator.bias_generator(estimator, generator_opts)"
   ]
  },
  {
   "cell_type": "markdown",
   "metadata": {
    "id": "fZ52OiScSh5Z",
    "tags": []
   },
   "source": [
    "### Generating New Molecules"
   ]
  },
  {
   "cell_type": "markdown",
   "metadata": {
    "id": "nGnCHcfoSh5Z",
    "tags": []
   },
   "source": [
    "OK, the biasing worked, and now we can use this generator to create new molecules. The new generator state was saved in the `chk` folder, under the name `biased_generator_final.chk`:"
   ]
  },
  {
   "cell_type": "code",
   "execution_count": null,
   "metadata": {
    "id": "umSSQ_OASh5Z",
    "outputId": "e3790bd7-8a30-489d-e1fa-3c73c3f6651a",
    "tags": []
   },
   "outputs": [],
   "source": [
    "!ls chk"
   ]
  },
  {
   "cell_type": "markdown",
   "metadata": {
    "id": "FWjgAZ48Sh5a"
   },
   "source": [
    "Let's load this new generator:"
   ]
  },
  {
   "cell_type": "code",
   "execution_count": null,
   "metadata": {
    "id": "2RkgVV5jSh5a",
    "outputId": "60aae0cc-24d8-45b3-920e-cab542b72cea"
   },
   "outputs": [],
   "source": [
    "%time\n",
    "generator_properties = {\n",
    "    'name':'ReLeaSE',    # Just a name to remeber what generator we are using\n",
    "    'batch_size':200,    # Generate this many molecules at a time, unless we specify the desired number\n",
    "    'initial_state':'chk/biased_generator_final.chk'\n",
    "}\n",
    "generator = ReLeaSE.ReLeaSE(generator_properties)"
   ]
  },
  {
   "cell_type": "markdown",
   "metadata": {
    "id": "0DTGfSDISh5a"
   },
   "source": [
    "Now, we can finally use this new generator to create new molecules:"
   ]
  },
  {
   "cell_type": "code",
   "execution_count": null,
   "metadata": {
    "colab": {
     "referenced_widgets": [
      ""
     ]
    },
    "id": "NzFfCtrbSh5a",
    "outputId": "07d91fe1-e331-4399-f068-4c81fa5d7504"
   },
   "outputs": [],
   "source": [
    "%time\n",
    "biased_smis = generator.generate_smis(1000)"
   ]
  },
  {
   "cell_type": "code",
   "execution_count": null,
   "metadata": {
    "id": "UISQY_PWSh5a",
    "outputId": "58f3ed5a-5c8d-4121-cf14-c3dfcf2229d7"
   },
   "outputs": [],
   "source": [
    "%time\n",
    "biased_mols = [Chem.MolFromSmiles(x) for x in biased_smis]\n",
    "biased_results = estimator.estimate_properties(biased_mols)"
   ]
  },
  {
   "cell_type": "markdown",
   "metadata": {
    "id": "lwpTEhIcSh5a"
   },
   "source": [
    "### Compare the results to the unbiased set"
   ]
  },
  {
   "cell_type": "code",
   "execution_count": null,
   "metadata": {
    "id": "motRzkTKSh5b",
    "outputId": "f06f09b9-1627-4f75-a377-0dce56d87173"
   },
   "outputs": [],
   "source": [
    "fig, ax = plt.subplots(ncols=2, nrows=1, figsize=(15,5))\n",
    "threshold = 0.5\n",
    "\n",
    "sns.histplot(data=unbiased_results, kde=True, ax=ax[0], label='Unbiased')\n",
    "ax[0].vlines(threshold,0,120,color='red', ls='--')\n",
    "ax[0].annotate('BBB+',(threshold + 0.01,107), (ax[0].get_xlim()[1] - 0.1,105), arrowprops={'color':'red',\n",
    "                                                              'arrowstyle':'<-','relpos':(.5,.5)} )\n",
    "ax[0].annotate('BBB-',(threshold - 0.01,107), (ax[0].get_xlim()[0] + 0.02,105), arrowprops={'color':'red',\n",
    "                                                              'arrowstyle':'<-','relpos':(.5,.5)} );\n",
    "ax[0].legend()\n",
    "\n",
    "sns.histplot(data=biased_results, kde=True, ax=ax[1], label='Biased')\n",
    "ax[1].vlines(threshold,0,120,color='red', ls='--')\n",
    "ax[1].annotate('BBB+',(threshold + 0.01,107), (ax[1].get_xlim()[1] - 0.1,105), arrowprops={'color':'red',\n",
    "                                                              'arrowstyle':'<-','relpos':(.5,.5)} )\n",
    "ax[1].annotate('BBB-',(threshold - 0.01,107), (ax[1].get_xlim()[0] + 0.02,105), arrowprops={'color':'red',\n",
    "                                                              'arrowstyle':'<-','relpos':(.5,.5)} );\n",
    "ax[1].legend();"
   ]
  },
  {
   "cell_type": "markdown",
   "metadata": {
    "id": "Q4oASUxXSh5b"
   },
   "source": [
    "We can classify the labels as BBB+/BBB- with:"
   ]
  },
  {
   "cell_type": "code",
   "execution_count": null,
   "metadata": {
    "id": "onQvsmynSh5b"
   },
   "outputs": [],
   "source": [
    "biased_labels = [\"BBB+\" if x>=0.5 else \"BBB-\" for x in biased_results['CHEMBERT_predictor']]"
   ]
  },
  {
   "cell_type": "code",
   "execution_count": null,
   "metadata": {
    "tags": []
   },
   "outputs": [],
   "source": [
    "fig, ax = plt.subplots(ncols=2, nrows=1, figsize=(15,5))\n",
    "\n",
    "# Unbiased set\n",
    "sns.countplot(x=unbiased_labels,order=['BBB-','BBB+'], ax=ax[0])\n",
    "counts_unbiased=np.array([sum(np.array(unbiased_labels) == \"BBB-\"),sum(np.array(unbiased_labels) == \"BBB+\")])\n",
    "rel_counts_unb = counts_unbiased / len(unbiased_labels)\n",
    "labels_unb = [f\"{l[0]} ({l[1]:0.1%})\" for l in zip(counts_unbiased, rel_counts_unb)]\n",
    "\n",
    "ax[0].bar_label(container=ax[0].containers[0], labels=labels_unb)\n",
    "ax[0].set_title(\"Unbiased\")\n",
    "    \n",
    "# Biased set\n",
    "sns.countplot(x=biased_labels  ,order=['BBB-','BBB+'], ax=ax[1])\n",
    "counts_biased=np.array([sum(np.array(biased_labels) == \"BBB-\"),sum(np.array(biased_labels) == \"BBB+\")])\n",
    "rel_counts_bia = counts_biased / len(biased_labels)\n",
    "labels_bia = [f\"{l[0]} ({l[1]:0.1%})\" for l in zip(counts_biased, rel_counts_bia)]\n",
    "ax[1].bar_label(container=ax[1].containers[0], labels=labels_bia)\n",
    "ax[1].set_title(\"Biased\");\n",
    "\n"
   ]
  },
  {
   "cell_type": "markdown",
   "metadata": {
    "id": "3z479f7uSh5c"
   },
   "source": [
    "Here's a random sample of the molecules generated by the generator **_before_** biasing"
   ]
  },
  {
   "cell_type": "code",
   "execution_count": null,
   "metadata": {
    "id": "Wxox8pZrSh5c",
    "outputId": "1001305a-3cb8-42a1-b65e-a47c435859b8"
   },
   "outputs": [],
   "source": [
    "mols_idx =random.sample(range(len(unbiased_mols)), 9)\n",
    "mols = [unbiased_mols[x] for x in mols_idx]\n",
    "legends = [unbiased_labels[x] for x in mols_idx]\n",
    "Draw.MolsToGridImage(mols, molsPerRow=3,subImgSize=(500,200), legends=legends)"
   ]
  },
  {
   "cell_type": "markdown",
   "metadata": {
    "id": "1aglZxPkSh5c"
   },
   "source": [
    "And here is a random sample of molecules generated **_after_** the biasing procedure:"
   ]
  },
  {
   "cell_type": "code",
   "execution_count": null,
   "metadata": {
    "id": "MVZPldoqSh5d",
    "outputId": "26b250e8-a338-4636-e8fe-b0ce31745fc0"
   },
   "outputs": [],
   "source": [
    "mols_idx =random.sample(range(len(biased_mols)), 9)\n",
    "mols = [biased_mols[x] for x in mols_idx]\n",
    "legends = [biased_labels[x] for x in mols_idx]\n",
    "Draw.MolsToGridImage(mols, molsPerRow=3,subImgSize=(500,200), legends=legends)"
   ]
  },
  {
   "cell_type": "markdown",
   "metadata": {
    "tags": []
   },
   "source": [
    "## 4. Homework: Generating BBB- Molecules"
   ]
  },
  {
   "cell_type": "markdown",
   "metadata": {},
   "source": [
    "Now, imagine you want molecules that **don't** cross the BBB. Can we bias the generator for that task?"
   ]
  },
  {
   "cell_type": "markdown",
   "metadata": {},
   "source": [
    "### Biasing a new generator\n",
    "\n",
    "We will start with a new, unbiased generator."
   ]
  },
  {
   "cell_type": "code",
   "execution_count": null,
   "metadata": {
    "colab": {
     "base_uri": "https://localhost:8080/"
    },
    "id": "KpNoMymrSh5J",
    "outputId": "9db48016-3ccb-4108-d6f2-63adefa36140",
    "tags": []
   },
   "outputs": [],
   "source": [
    "%time\n",
    "generator_properties = {\n",
    "    'name':'ReLeaSE',    # Just a name to remeber what generator we are using\n",
    "    'batch_size':200,    # Generate this many molecules at a time, unless we specify the desired number\n",
    "    'initial_state':'release/checkpoints/generator/checkpoint_biggest_rnn' # The unbiased state of the generator\n",
    "}\n",
    "generator = ReLeaSE.ReLeaSE(generator_properties)"
   ]
  },
  {
   "cell_type": "markdown",
   "metadata": {},
   "source": [
    "Let's change the optimization to *decrease* the probability that generated molecules can cross the BBB. Now we want to move the generator towards a small threshold."
   ]
  },
  {
   "cell_type": "code",
   "execution_count": null,
   "metadata": {
    "id": "4V4k_iWUSh5V"
   },
   "outputs": [],
   "source": [
    "config_opts = {\n",
    "    'CHEMBERT_predictor':{\n",
    "        'task':'classification',\n",
    "        'model_file':'chembert/Finetuned_model_final.pt',\n",
    "        'optimize':True,\n",
    "        'threshold':0.5,\n",
    "        'threshold_step':-0.1,\n",
    "        'threshold_limit':0.05\n",
    "    }\n",
    "}"
   ]
  },
  {
   "cell_type": "code",
   "execution_count": null,
   "metadata": {
    "id": "zJ4lzqilSh5V",
    "outputId": "fc6c2e9c-af32-411f-dd40-b04f2eafcdf8"
   },
   "outputs": [],
   "source": [
    "estimator = Estimators.Estimators(config_opts)"
   ]
  },
  {
   "cell_type": "code",
   "execution_count": null,
   "metadata": {
    "id": "3_7AIkBdSh5Y"
   },
   "outputs": [],
   "source": [
    "generator_opts ={\n",
    "    'verbosity':0\n",
    "}"
   ]
  },
  {
   "cell_type": "code",
   "execution_count": null,
   "metadata": {
    "colab": {
     "referenced_widgets": [
      ""
     ]
    },
    "id": "vgsqg6JCSh5Y",
    "outputId": "38eb81ea-4696-4600-e3c0-19e31ad264c1",
    "tags": []
   },
   "outputs": [],
   "source": [
    "%time\n",
    "generator.bias_generator(estimator, generator_opts)"
   ]
  },
  {
   "cell_type": "markdown",
   "metadata": {
    "id": "fZ52OiScSh5Z",
    "tags": []
   },
   "source": [
    "### Generating New Molecules"
   ]
  },
  {
   "cell_type": "markdown",
   "metadata": {
    "id": "nGnCHcfoSh5Z",
    "tags": []
   },
   "source": [
    "OK, the biasing worked, and now we can use this generator to create new molecules. The new generator state was saved in the `chk` folder, under the name `biased_generator_final.chk`:"
   ]
  },
  {
   "cell_type": "code",
   "execution_count": null,
   "metadata": {
    "id": "umSSQ_OASh5Z",
    "outputId": "e3790bd7-8a30-489d-e1fa-3c73c3f6651a",
    "tags": []
   },
   "outputs": [],
   "source": [
    "!ls chk"
   ]
  },
  {
   "cell_type": "markdown",
   "metadata": {
    "id": "FWjgAZ48Sh5a"
   },
   "source": [
    "Let's load this new generator:"
   ]
  },
  {
   "cell_type": "code",
   "execution_count": null,
   "metadata": {
    "id": "2RkgVV5jSh5a",
    "outputId": "60aae0cc-24d8-45b3-920e-cab542b72cea"
   },
   "outputs": [],
   "source": [
    "%time\n",
    "generator_properties = {\n",
    "    'name':'ReLeaSE',    # Just a name to remeber what generator we are using\n",
    "    'batch_size':200,    # Generate this many molecules at a time, unless we specify the desired number\n",
    "    'initial_state':'chk/biased_generator_final.chk'\n",
    "}\n",
    "generator = ReLeaSE.ReLeaSE(generator_properties)"
   ]
  },
  {
   "cell_type": "markdown",
   "metadata": {
    "id": "0DTGfSDISh5a"
   },
   "source": [
    "Now, we can finally use this new generator to create new molecules:"
   ]
  },
  {
   "cell_type": "code",
   "execution_count": null,
   "metadata": {
    "colab": {
     "referenced_widgets": [
      ""
     ]
    },
    "id": "NzFfCtrbSh5a",
    "outputId": "07d91fe1-e331-4399-f068-4c81fa5d7504"
   },
   "outputs": [],
   "source": [
    "%time\n",
    "biased_smis = generator.generate_smis(1000)"
   ]
  },
  {
   "cell_type": "code",
   "execution_count": null,
   "metadata": {
    "id": "UISQY_PWSh5a",
    "outputId": "58f3ed5a-5c8d-4121-cf14-c3dfcf2229d7"
   },
   "outputs": [],
   "source": [
    "%time\n",
    "biased_mols = [Chem.MolFromSmiles(x) for x in biased_smis]\n",
    "biased_results = estimator.estimate_properties(biased_mols)"
   ]
  },
  {
   "cell_type": "markdown",
   "metadata": {
    "id": "lwpTEhIcSh5a"
   },
   "source": [
    "### Compare the results to the unbiased set"
   ]
  },
  {
   "cell_type": "code",
   "execution_count": null,
   "metadata": {
    "id": "motRzkTKSh5b",
    "outputId": "f06f09b9-1627-4f75-a377-0dce56d87173"
   },
   "outputs": [],
   "source": [
    "fig, ax = plt.subplots(ncols=2, nrows=1, figsize=(15,5))\n",
    "threshold = 0.5\n",
    "\n",
    "sns.histplot(data=unbiased_results, kde=True, ax=ax[0], label='Unbiased')\n",
    "ax[0].vlines(threshold,0,120,color='red', ls='--')\n",
    "ax[0].annotate('BBB+',(threshold + 0.01,107), (ax[0].get_xlim()[1] - 0.1,105), arrowprops={'color':'red',\n",
    "                                                              'arrowstyle':'<-','relpos':(.5,.5)} )\n",
    "ax[0].annotate('BBB-',(threshold - 0.01,107), (ax[0].get_xlim()[0] + 0.02,105), arrowprops={'color':'red',\n",
    "                                                              'arrowstyle':'<-','relpos':(.5,.5)} );\n",
    "ax[0].legend()\n",
    "\n",
    "sns.histplot(data=biased_results, kde=True, ax=ax[1], label='Biased')\n",
    "ax[1].vlines(threshold,0,120,color='red', ls='--')\n",
    "ax[1].annotate('BBB+',(threshold + 0.01,107), (ax[1].get_xlim()[1] - 0.1,105), arrowprops={'color':'red',\n",
    "                                                              'arrowstyle':'<-','relpos':(.5,.5)} )\n",
    "ax[1].annotate('BBB-',(threshold - 0.01,107), (ax[1].get_xlim()[0] + 0.02,105), arrowprops={'color':'red',\n",
    "                                                              'arrowstyle':'<-','relpos':(.5,.5)} );\n",
    "ax[1].legend();"
   ]
  },
  {
   "cell_type": "markdown",
   "metadata": {
    "id": "Q4oASUxXSh5b"
   },
   "source": [
    "We can classify the labels as BBB+/BBB- with:"
   ]
  },
  {
   "cell_type": "code",
   "execution_count": null,
   "metadata": {
    "id": "onQvsmynSh5b"
   },
   "outputs": [],
   "source": [
    "biased_labels = [\"BBB+\" if x>=0.5 else \"BBB-\" for x in biased_results['CHEMBERT_predictor']]"
   ]
  },
  {
   "cell_type": "code",
   "execution_count": null,
   "metadata": {
    "tags": []
   },
   "outputs": [],
   "source": [
    "fig, ax = plt.subplots(ncols=2, nrows=1, figsize=(15,5))\n",
    "\n",
    "# Unbiased set\n",
    "sns.countplot(x=unbiased_labels,order=['BBB-','BBB+'], ax=ax[0])\n",
    "counts_unbiased=np.array([sum(np.array(unbiased_labels) == \"BBB-\"),sum(np.array(unbiased_labels) == \"BBB+\")])\n",
    "rel_counts_unb = counts_unbiased / len(unbiased_labels)\n",
    "labels_unb = [f\"{l[0]} ({l[1]:0.1%})\" for l in zip(counts_unbiased, rel_counts_unb)]\n",
    "\n",
    "ax[0].bar_label(container=ax[0].containers[0], labels=labels_unb)\n",
    "ax[0].set_title(\"Unbiased\")\n",
    "    \n",
    "# Biased set\n",
    "sns.countplot(x=biased_labels  ,order=['BBB-','BBB+'], ax=ax[1])\n",
    "counts_biased=np.array([sum(np.array(biased_labels) == \"BBB-\"),sum(np.array(biased_labels) == \"BBB+\")])\n",
    "rel_counts_bia = counts_biased / len(biased_labels)\n",
    "labels_bia = [f\"{l[0]} ({l[1]:0.1%})\" for l in zip(counts_biased, rel_counts_bia)]\n",
    "ax[1].bar_label(container=ax[1].containers[0], labels=labels_bia)\n",
    "ax[1].set_title(\"Biased\");\n",
    "\n"
   ]
  },
  {
   "cell_type": "markdown",
   "metadata": {
    "id": "3z479f7uSh5c"
   },
   "source": [
    "Here's a random sample of the molecules generated by the generator **_before_** biasing"
   ]
  },
  {
   "cell_type": "code",
   "execution_count": null,
   "metadata": {
    "id": "Wxox8pZrSh5c",
    "outputId": "1001305a-3cb8-42a1-b65e-a47c435859b8"
   },
   "outputs": [],
   "source": [
    "mols_idx =random.sample(range(len(unbiased_mols)), 9)\n",
    "mols = [unbiased_mols[x] for x in mols_idx]\n",
    "legends = [unbiased_labels[x] for x in mols_idx]\n",
    "Draw.MolsToGridImage(mols, molsPerRow=3,subImgSize=(500,200), legends=legends)"
   ]
  },
  {
   "cell_type": "markdown",
   "metadata": {
    "id": "1aglZxPkSh5c"
   },
   "source": [
    "And here is a random sample of molecules generated **_after_** the biasing procedure:"
   ]
  },
  {
   "cell_type": "code",
   "execution_count": null,
   "metadata": {
    "id": "MVZPldoqSh5d",
    "outputId": "26b250e8-a338-4636-e8fe-b0ce31745fc0",
    "tags": []
   },
   "outputs": [],
   "source": [
    "mols_idx =random.sample(range(len(biased_mols)), 9)\n",
    "mols = [biased_mols[x] for x in mols_idx]\n",
    "legends = [biased_labels[x] for x in mols_idx]\n",
    "Draw.MolsToGridImage(mols, molsPerRow=3,subImgSize=(500,200), legends=legends)"
   ]
  },
  {
   "cell_type": "markdown",
   "metadata": {
    "id": "E9tqKxMRSh5d"
   },
   "source": [
    "# Conclusion"
   ]
  },
  {
   "cell_type": "code",
   "execution_count": null,
   "metadata": {
    "id": "1Y5bkKfgSh5d",
    "outputId": "1c17739b-8a8e-49ba-90c1-4590fafdf3e8"
   },
   "outputs": [],
   "source": [
    "end_time = time.time()\n",
    "elapsed_total = end_time - start_time\n",
    "\n",
    "print(f\"You took a total of {hms(elapsed_total)} to run the full notebook\")"
   ]
  },
  {
   "cell_type": "code",
   "execution_count": null,
   "metadata": {},
   "outputs": [],
   "source": []
  }
 ],
 "metadata": {
  "accelerator": "GPU",
  "colab": {
   "gpuType": "T4",
   "history_visible": true,
   "provenance": [],
   "toc_visible": true
  },
  "kernelspec": {
   "display_name": "IntroAIPharma",
   "language": "python",
   "name": "introaipharma"
  },
  "language_info": {
   "codemirror_mode": {
    "name": "ipython",
    "version": 3
   },
   "file_extension": ".py",
   "mimetype": "text/x-python",
   "name": "python",
   "nbconvert_exporter": "python",
   "pygments_lexer": "ipython3",
   "version": "3.10.15"
  }
 },
 "nbformat": 4,
 "nbformat_minor": 4
}
